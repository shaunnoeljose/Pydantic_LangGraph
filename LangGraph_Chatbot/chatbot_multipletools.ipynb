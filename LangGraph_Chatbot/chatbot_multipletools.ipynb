{
 "cells": [
  {
   "cell_type": "markdown",
   "id": "a697de94",
   "metadata": {},
   "source": [
    "## Creating the tools"
   ]
  },
  {
   "cell_type": "code",
   "execution_count": 14,
   "id": "41fa3e29",
   "metadata": {},
   "outputs": [],
   "source": [
    "##tools\n",
    "from langchain_community.tools import ArxivQueryRun, WikipediaQueryRun\n",
    "from langchain_community.utilities import WikipediaAPIWrapper, ArxivAPIWrapper "
   ]
  },
  {
   "cell_type": "code",
   "execution_count": 15,
   "id": "fb33788b",
   "metadata": {},
   "outputs": [
    {
     "data": {
      "text/plain": [
       "\"Published: 2024-07-22\\nTitle: Attention Is All You Need But You Don't Need All Of It For Inference of Large Language Models\\nAuthors: Georgy Tyukin, Gbetondji J-S Dovonon, Jean Kaddour, Pasquale Minervini\\nSummary: The inference demand for LLMs has skyrocketed in recent months, and serving\\nmodels with low latencies remains challenging due to the quadratic input length\\ncomplexity of the attention layers. In this work, we investigate the effect of\\ndropping MLP and attention layers at inference time o\""
      ]
     },
     "execution_count": 15,
     "metadata": {},
     "output_type": "execute_result"
    }
   ],
   "source": [
    "api_wrapper_arxiv = ArxivAPIWrapper(top_k_results=2, doc_content_chars_max=500) # type: ignore\n",
    "arxiv = ArxivQueryRun(api_wrapper=api_wrapper_arxiv, description=\"Query arxiv papers\")\n",
    "\n",
    "# print(arxiv.name)\n",
    "arxiv.invoke(\"Attention is all you need\")\n",
    "\n",
    "api_wrapper_wiki = WikipediaAPIWrapper(top_k_results=1, doc_content_chars_max=500) # type: ignore\n",
    "wiki = WikipediaQueryRun(api_wrapper=api_wrapper_wiki)\n",
    "\n",
    "# print(arxiv.name)\n",
    "arxiv.invoke(\"Attention is all you need\")\n",
    "\n",
    "# print(wiki.name)"
   ]
  },
  {
   "cell_type": "code",
   "execution_count": 26,
   "id": "de4e71d6",
   "metadata": {},
   "outputs": [],
   "source": [
    "import os\n",
    "from dotenv import load_dotenv\n",
    "load_dotenv()\n",
    "\n",
    "tavily_key = os.getenv(\"TAVILY_API_KEY\")\n",
    "groq_key = os.getenv(\"GROQ_API_KEY\")"
   ]
  },
  {
   "cell_type": "code",
   "execution_count": null,
   "id": "9c6b17b1",
   "metadata": {},
   "outputs": [
    {
     "data": {
      "text/plain": [
       "{'query': 'Provide me the recent AI news',\n",
       " 'follow_up_questions': None,\n",
       " 'answer': None,\n",
       " 'images': [],\n",
       " 'results': [{'title': 'AI News | Latest Headlines and Developments | Reuters',\n",
       "   'url': 'https://www.reuters.com/technology/artificial-intelligence/',\n",
       "   'content': 'The S&P 500 and the Nasdaq Composite hit all-time highs on Friday as renewed AI enthusiasm and the prospect of a looser monetary policy powered a recovery in U.S. stocks from months-long rout.',\n",
       "   'score': 0.5931622,\n",
       "   'raw_content': None},\n",
       "  {'title': 'Artificial intelligence news: Chat AI, ChatGPT, AI generator, AI ...',\n",
       "   'url': 'https://www.nbcnews.com/artificial-intelligence',\n",
       "   'content': \"The latest news and top stories on artificial intelligence, including AI chatbots like Microsoft's ChatGPT, Apple's AI Chatbot and Google's Bard.\",\n",
       "   'score': 0.5775198,\n",
       "   'raw_content': None},\n",
       "  {'title': 'Artificial Intelligence News -- ScienceDaily',\n",
       "   'url': 'https://www.sciencedaily.com/news/computers_math/artificial_intelligence/',\n",
       "   'content': 'Artificial Intelligence News. Everything on AI including futuristic robots with artificial intelligence, computer models of human intelligence and more.',\n",
       "   'score': 0.54608524,\n",
       "   'raw_content': None},\n",
       "  {'title': 'AI News & Artificial Intelligence | TechCrunch',\n",
       "   'url': 'https://techcrunch.com/category/artificial-intelligence/',\n",
       "   'content': 'Read the latest on artificial intelligence and machine learning tech, the companies that are building them, and the ethical issues AI raises today.',\n",
       "   'score': 0.5176446,\n",
       "   'raw_content': None},\n",
       "  {'title': 'Artificial intelligence - BBC News',\n",
       "   'url': 'https://www.bbc.co.uk/news/topics/ce1qrvleleqt',\n",
       "   'content': 'Stay informed with the latest news, video, live updates and expert analysis about Artificial intelligence from across the BBC.',\n",
       "   'score': 0.4574039,\n",
       "   'raw_content': None}],\n",
       " 'response_time': 1.51}"
      ]
     },
     "execution_count": 28,
     "metadata": {},
     "output_type": "execute_result"
    }
   ],
   "source": [
    "## Creating Tavily search tool\n",
    "from langchain_tavily import TavilySearch\n",
    "\n",
    "tavily = TavilySearch()\n",
    "tavily.invoke(\"Provide me the recent AI news\")"
   ]
  },
  {
   "cell_type": "code",
   "execution_count": null,
   "id": "2d48c248",
   "metadata": {},
   "outputs": [
    {
     "data": {
      "text/plain": [
       "AIMessage(content='\\n<think>\\nOkay, the user is asking, \"What is AI?\" Let me start by breaking down the term. AI stands for Artificial Intelligence. I need to explain it in simple terms. Maybe start with a definition: AI refers to the simulation of human intelligence in machines. But wait, that\\'s a bit vague. Let me elaborate.\\n\\nHmm, I should mention that AI involves tasks like learning, reasoning, and problem-solving. Maybe categorize AI into types to make it clearer. There\\'s narrow or weak AI, which is designed for specific tasks, like voice assistants or recommendation systems. Then there\\'s general or strong AI, which is more hypothetical, aiming for human-like intelligence. Oh, right, there\\'s also the distinction between machine learning, deep learning, and neural networks. I should explain those briefly too.\\n\\nWait, the user might not know technical terms. Maybe start with examples. Like, when you use Siri or Alexa, that\\'s AI. Or how Netflix recommends shows based on your viewing history. That makes it relatable. But I shouldn\\'t just list examples without explaining the underlying principles.\\n\\nI should also touch on the history a bit. Mention early concepts, maybe Turing\\'s test or early AI pioneers. But keep it concise. The user probably wants a straightforward answer, not a history lesson. Focus on current applications.\\n\\nWhat are the key components of AI? Machine learning is a subset that allows systems to learn from data. Deep learning uses neural networks with many layers. Maybe clarify that machine learning is a part of AI, and deep learning is part of machine learning. That hierarchy is important for understanding.\\n\\nApplications are crucial here. Healthcare, autonomous cars, customer service chatbots, etc. But also mention challenges: ethical concerns, bias in data, job displacement. The user might be interested in both benefits and drawbacks.\\n\\nWait, the user might be a student or someone new to the field, so avoid jargon. Use simple terms. Maybe structure the answer with key points: definition, types, how it works, applications, challenges. That way it\\'s organized and easy to follow.\\n\\nI should also mention that AI doesn\\'t have consciousness, it\\'s all about algorithms and data. Clarify that it\\'s about imitating human decision-making, not actually being human. Maybe address common misconceptions here.\\n\\nHmm, need to make sure the explanation is comprehensive but not overwhelming. Balance depth with simplicity. Maybe start with a concise definition, then expand into types, how it works, examples, applications, and challenges. Conclude with something about its future potential.\\n\\nWait, maybe start with the question: What is AI? Then define it, then explain the components, types, how it\\'s applied, and the current state. Also, touch on the difference between AI and human intelligence to prevent confusion.\\n\\nI should also consider possible follow-up questions the user might have, but since they just asked for a definition, stick to the basics. Keep it clear and informative without unnecessary details. Alright, let\\'s put this all together in a structured way.\\n</think>\\n\\n**Artificial Intelligence (AI)** is a branch of computer science focused on creating machines or systems that can perform tasks requiring **human-like intelligence**, such as learning, problem-solving, decision-making, and understanding language. The goal is to enable machines to perceive their environment, reason about it, and take actions to achieve specific objectives.\\n\\n---\\n\\n### **Key Concepts of AI**:\\n1. **Types of AI**:\\n   - **Narrow/AI (Weak AI)**: Designed for specific tasks (e.g., voice assistants like Siri, recommendation systems on Netflix).\\n   - **General AI (Strong AI)**: Hypothetical systems that can perform *any* intellectual task a human can (not yet achieved).\\n   - **Super AI**: Theoretical systems surpassing human intelligence in all areas (currently science fiction).\\n\\n2. **How It Works**:\\n   - **Machine Learning (ML)**: AI systems learn from data to improve performance over time without explicit programming (e.g., detecting credit card fraud).\\n   - **Deep Learning**: A subset of ML using **neural networks** modeled after the human brain to process complex data (e.g., image recognition).\\n   - **Natural Language Processing (NLP)**: Enables machines to understand and generate human language (e.g., chatbots, translation tools).\\n\\n3. **Applications**:\\n   - **Healthcare**: Diagnosing diseases, drug discovery, personalized treatment.\\n   - **Transportation**: Self-driving cars (e.g., Tesla’s Autopilot).\\n   - **Entertainment**: Content recommendations (Netflix, Spotify), video game NPCs.\\n   - **Business**: Customer service chatbots, fraud detection, predictive analytics.\\n\\n---\\n\\n### **How AI \"Thinks\"**:\\n- **Data-Driven**: AI systems rely on training data to recognize patterns and make decisions.\\n- **Algorithms**: Mathematical models (e.g., decision trees, neural networks) form the backbone of AI solutions.\\n- **Automation**: Often used to streamline repetitive or complex tasks (e.g., manufacturing robots, automated customer support).\\n\\n---\\n\\n### **Limitations & Challenges**:\\n- **Bias**: AI can inherit biases from training data (e.g., unfair hiring algorithms).\\n- **Ethical Concerns**: Issues like privacy, job displacement, and autonomous weapons.\\n- **Lack of Consciousness**: AI lacks self-awareness or emotions—it’s just math and logic.\\n\\n---\\n\\n### **Future of AI**:\\n- **AI Ethics**: Growing focus on responsible development (e.g., GDPR, bias mitigation).\\n- **General AI**: Researchers aim to develop systems capable of handling diverse, unstructured tasks.\\n- **Integration**: AI will likely become more embedded in daily life, from smart homes to climate modeling.\\n\\n---\\n\\n### **Example of AI in Action**:\\n- **Siri/Google Assistant**: Understand speech, answer questions, control devices.\\n- **AlphaFold**: Predicts protein structures to accelerate medical research.\\n- **ChatGPT**: Generates human-like text for answering questions, writing stories, or coding.\\n\\n---\\n\\nIn summary, AI is about building tools that mimic human intelligence to solve problems, improve efficiency, and enhance our lives—though it’s still a work in progress with both immense potential and ethical considerations.', additional_kwargs={}, response_metadata={'token_usage': {'completion_tokens': 1267, 'prompt_tokens': 13, 'total_tokens': 1280, 'completion_time': 2.905589839, 'prompt_time': 0.002714915, 'queue_time': 0.0019319949999999997, 'total_time': 2.908304754}, 'model_name': 'qwen-qwq-32b', 'system_fingerprint': 'fp_28178d7ff6', 'finish_reason': 'stop', 'logprobs': None}, id='run--25e477a7-a837-4559-b334-56d397c2f4fa-0', usage_metadata={'input_tokens': 13, 'output_tokens': 1267, 'total_tokens': 1280})"
      ]
     },
     "execution_count": 31,
     "metadata": {},
     "output_type": "execute_result"
    }
   ],
   "source": [
    "#Combing the tools to integrate with the LLM\n",
    "tools = [arxiv, wiki, tavily]\n",
    "\n",
    "#Intialize the LLM model\n",
    "from langchain_groq import ChatGroq\n",
    "\n",
    "llm = ChatGroq(model = \"qwen-qwq-32b\")\n",
    "\n",
    "# llm.invoke(\"What is AI\")"
   ]
  },
  {
   "cell_type": "code",
   "execution_count": null,
   "id": "0f59dd20",
   "metadata": {},
   "outputs": [
    {
     "data": {
      "text/plain": [
       "AIMessage(content='', additional_kwargs={'reasoning_content': 'Okay, the user is asking for the latest news on AI. I need to figure out which tool to use. The available functions are arxiv, wikipedia, and tavily_search. \\n\\nThe user wants the latest news, which suggests they need recent information. Arxiv is for academic papers, which might not be the best for the latest news. Wikipedia is for encyclopedic info, which also might not be timely. Tavily_search seems suitable because it can search the web and has parameters for time ranges.\\n\\nLooking at Tavily\\'s parameters, there\\'s a time_range option. Since the user specified \"latest,\" I should set time_range to \"day\" or \"week\" to get recent articles. The topic should be \"news\" because they\\'re asking about current events. Also, the search_depth could be \"advanced\" to ensure comprehensive results, but the default is \"basic\". However, since they want the latest, maybe \"advanced\" would be better to dig deeper. \\n\\nWait, the default for search_depth is \"basic\" but the description says to use \"advanced\" for complex or in-depth needs. Since the user just wants the latest, maybe \"basic\" is sufficient. The query should be \"latest AI news\". \\n\\nI need to structure the arguments. The required parameter is \"query\", which is \"latest AI news\". Then set time_range to \"day\" to get the most recent 24 hours. Topic should be \"news\" as per the instructions. Let me check the parameters again: topic can be \"news\" for current events. \\n\\nSo the function call would be tavily_search with query \"latest AI news\", time_range \"day\", and topic \"news\". That should fetch the most recent news articles. I\\'ll make sure not to include any domains unless specified, but since the user didn\\'t mention any exclusions, include_domains and exclude_domains can stay default. \\n\\nI think that\\'s all. Let me put that into the tool_call format.\\n', 'tool_calls': [{'id': 'x03gdwx7c', 'function': {'arguments': '{\"query\":\"latest news on AI\",\"search_depth\":\"advanced\",\"time_range\":\"day\",\"topic\":\"news\"}', 'name': 'tavily_search'}, 'type': 'function'}]}, response_metadata={'token_usage': {'completion_tokens': 454, 'prompt_tokens': 1217, 'total_tokens': 1671, 'completion_time': 1.053873212, 'prompt_time': 0.065614454, 'queue_time': 0.007502659999999994, 'total_time': 1.119487666}, 'model_name': 'qwen-qwq-32b', 'system_fingerprint': 'fp_28178d7ff6', 'finish_reason': 'tool_calls', 'logprobs': None}, id='run--084b7430-cfd9-429c-9e11-c1eaf83d85fa-0', tool_calls=[{'name': 'tavily_search', 'args': {'query': 'latest news on AI', 'search_depth': 'advanced', 'time_range': 'day', 'topic': 'news'}, 'id': 'x03gdwx7c', 'type': 'tool_call'}], usage_metadata={'input_tokens': 1217, 'output_tokens': 454, 'total_tokens': 1671})"
      ]
     },
     "execution_count": 36,
     "metadata": {},
     "output_type": "execute_result"
    }
   ],
   "source": [
    "llm_with_tools = llm.bind_tools(tools=tools) \n",
    "\n",
    "# Execute the call\n",
    "llm_with_tools.invoke(\"what is the latest news on AI\")"
   ]
  },
  {
   "cell_type": "code",
   "execution_count": 39,
   "id": "c177cff6",
   "metadata": {},
   "outputs": [],
   "source": [
    "##Creating workflow for langGraph Application\n",
    "\n",
    "#State Schema\n",
    "from typing_extensions import TypedDict\n",
    "from langchain_core.messages import AnyMessage #Human message or AI message\n",
    "from typing import Annotated #Labeling\n",
    "from langgraph.graph.message import add_messages #Reducers in Langgraph\n",
    "\n",
    "class State(TypedDict):\n",
    "    messages: Annotated[list[AnyMessage], add_messages] #add_messages will append the messages as it is a reducer"
   ]
  },
  {
   "cell_type": "code",
   "execution_count": 49,
   "id": "67b54f52",
   "metadata": {},
   "outputs": [
    {
     "data": {
      "image/png": "[encoded data removed]",
      "text/plain": [
       "<IPython.core.display.Image object>"
      ]
     },
     "metadata": {},
     "output_type": "display_data"
    }
   ],
   "source": [
    "#Creating the chatbot with LangGraph\n",
    "from IPython.display import Image, display\n",
    "from langgraph.graph import StateGraph, START, END\n",
    "from langgraph.prebuilt import ToolNode\n",
    "from langgraph.prebuilt import tools_condition\n",
    "\n",
    "#Node definition\n",
    "def tool_calling_llm(state:State):\n",
    "    return{\"messages\":[llm_with_tools.invoke(state[\"messages\"])]}\n",
    "\n",
    "#build graph\n",
    "builder = StateGraph(State)\n",
    "builder.add_node(\"tool_calling_llm\", tool_calling_llm)\n",
    "builder.add_node(\"tools\",ToolNode(tools))\n",
    "\n",
    "#Adding edges\n",
    "builder.add_edge(START,\"tool_calling_llm\")\n",
    "builder.add_conditional_edges(\"tool_calling_llm\",\n",
    "                              ##if the latest message from assistant is a tool call ---> tools_condition routes to tools\n",
    "                              ##else if not a tool call --> tools_condition routes to END\n",
    "                              tools_condition,\n",
    "                              )\n",
    "builder.add_edge(\"tools\", END)\n",
    "\n",
    "graph = builder.compile()\n",
    "\n",
    "#Viewing the graph\n",
    "display(Image(graph.get_graph().draw_mermaid_png()))"
   ]
  },
  {
   "cell_type": "code",
   "execution_count": 50,
   "id": "6ee5673d",
   "metadata": {},
   "outputs": [
    {
     "name": "stdout",
     "output_type": "stream",
     "text": [
      "================================\u001b[1m Human Message \u001b[0m=================================\n",
      "\n",
      "1706.03762\n",
      "==================================\u001b[1m Ai Message \u001b[0m==================================\n",
      "Tool Calls:\n",
      "  arxiv (7am6e3at0)\n",
      " Call ID: 7am6e3at0\n",
      "  Args:\n",
      "    query: 1706.03762\n",
      "=================================\u001b[1m Tool Message \u001b[0m=================================\n",
      "Name: arxiv\n",
      "\n",
      "Published: 2023-08-02\n",
      "Title: Attention Is All You Need\n",
      "Authors: Ashish Vaswani, Noam Shazeer, Niki Parmar, Jakob Uszkoreit, Llion Jones, Aidan N. Gomez, Lukasz Kaiser, Illia Polosukhin\n",
      "Summary: The dominant sequence transduction models are based on complex recurrent or\n",
      "convolutional neural networks in an encoder-decoder configuration. The best\n",
      "performing models also connect the encoder and decoder through an attention\n",
      "mechanism. We propose a new simple network architecture, the Transformer, base\n"
     ]
    }
   ],
   "source": [
    "# Invoking the graph\n",
    "messages = graph.invoke({\"messages\": \"1706.03762\"})\n",
    "for m in messages['messages']:\n",
    "    m.pretty_print()"
   ]
  },
  {
   "cell_type": "code",
   "execution_count": 51,
   "id": "3a6f8167",
   "metadata": {},
   "outputs": [
    {
     "name": "stdout",
     "output_type": "stream",
     "text": [
      "================================\u001b[1m Human Message \u001b[0m=================================\n",
      "\n",
      "Hi How are you doing\n",
      "==================================\u001b[1m Ai Message \u001b[0m==================================\n",
      "\n",
      "Hello! I'm an AI assistant here to help you. I'm doing well, thank you for asking! How can I assist you today?\n"
     ]
    }
   ],
   "source": [
    "messages = graph.invoke({\"messages\": \"Hi How are you doing\"})\n",
    "for m in messages['messages']:\n",
    "    m.pretty_print()\n"
   ]
  },
  {
   "cell_type": "code",
   "execution_count": null,
   "id": "e3718d71",
   "metadata": {},
   "outputs": [
    {
     "data": {
      "image/png": "[encoded data removed]",
      "text/plain": [
       "<IPython.core.display.Image object>"
      ]
     },
     "metadata": {},
     "output_type": "display_data"
    }
   ],
   "source": [
    "#Creating the chatbot with LangGraph with ReAct Framework\n",
    "from IPython.display import Image, display\n",
    "from langgraph.graph import StateGraph, START, END\n",
    "from langgraph.prebuilt import ToolNode\n",
    "from langgraph.prebuilt import tools_condition\n",
    "\n",
    "#Node definition\n",
    "def tool_calling_llm(state:State):\n",
    "    return{\"messages\":[llm_with_tools.invoke(state[\"messages\"])]}\n",
    "\n",
    "#build graph\n",
    "builder = StateGraph(State)\n",
    "builder.add_node(\"tool_calling_llm\", tool_calling_llm)\n",
    "builder.add_node(\"tools\",ToolNode(tools))\n",
    "\n",
    "#Adding edges\n",
    "builder.add_edge(START,\"tool_calling_llm\")\n",
    "builder.add_conditional_edges(\"tool_calling_llm\",\n",
    "                              ##if the latest message from assistant is a tool call ---> tools_condition routes to tools\n",
    "                              ##else if not a tool call --> tools_condition routes to END\n",
    "                              tools_condition,\n",
    "                              )\n",
    "builder.add_edge(\"tools\", \"tool_calling_llm\") #React framework is implemented over here\n",
    "\n",
    "graph2 = builder.compile()\n",
    "\n",
    "#Viewing the graph\n",
    "display(Image(graph2.get_graph().draw_mermaid_png()))"
   ]
  },
  {
   "cell_type": "code",
   "execution_count": 56,
   "id": "2045706d",
   "metadata": {},
   "outputs": [
    {
     "name": "stdout",
     "output_type": "stream",
     "text": [
      "================================\u001b[1m Human Message \u001b[0m=================================\n",
      "\n",
      "Hi How are you doing and please tell me recent research paper on AI\n",
      "==================================\u001b[1m Ai Message \u001b[0m==================================\n",
      "Tool Calls:\n",
      "  arxiv (qc3z7d2zj)\n",
      " Call ID: qc3z7d2zj\n",
      "  Args:\n",
      "    query: AI\n",
      "    time_range: month\n",
      "=================================\u001b[1m Tool Message \u001b[0m=================================\n",
      "Name: arxiv\n",
      "\n",
      "Published: 2024-08-26\n",
      "Title: AI Thinking: A framework for rethinking artificial intelligence in practice\n",
      "Authors: Denis Newman-Griffis\n",
      "Summary: Artificial intelligence is transforming the way we work with information\n",
      "across disciplines and practical contexts. A growing range of disciplines are\n",
      "now involved in studying, developing, and assessing the use of AI in practice,\n",
      "but these disciplines often employ conflicting understandings of what AI is and\n",
      "what is involved in its use. New, interdiscipl\n"
     ]
    }
   ],
   "source": [
    "messages = graph.invoke({\"messages\": \"Hi How are you doing and please tell me recent research paper on AI\"})\n",
    "for m in messages['messages']:\n",
    "    m.pretty_print()"
   ]
  },
  {
   "cell_type": "code",
   "execution_count": 57,
   "id": "954e40db",
   "metadata": {},
   "outputs": [
    {
     "name": "stdout",
     "output_type": "stream",
     "text": [
      "================================\u001b[1m Human Message \u001b[0m=================================\n",
      "\n",
      "Hi I am Shaun How are you doing and please tell me recent research paper on AI\n",
      "==================================\u001b[1m Ai Message \u001b[0m==================================\n",
      "Tool Calls:\n",
      "  arxiv (k5zegxtrd)\n",
      " Call ID: k5zegxtrd\n",
      "  Args:\n",
      "    query: recent AI research papers\n",
      "=================================\u001b[1m Tool Message \u001b[0m=================================\n",
      "Name: arxiv\n",
      "\n",
      "Published: 2021-03-29\n",
      "Title: \"Weak AI\" is Likely to Never Become \"Strong AI\", So What is its Greatest Value for us?\n",
      "Authors: Bin Liu\n",
      "Summary: AI has surpassed humans across a variety of tasks such as image\n",
      "classification, playing games (e.g., go, \"Starcraft\" and poker), and protein\n",
      "structure prediction. However, at the same time, AI is also bearing serious\n",
      "controversies. Many researchers argue that little substantial progress has been\n",
      "made for AI in recent decades. In this paper, the author (1) \n",
      "==================================\u001b[1m Ai Message \u001b[0m==================================\n",
      "\n",
      "The paper provided from arxiv is from 2021, which might not be the most recent. To find newer research, I'll refine the search and check for 2023/2024 papers. Would you like me to:\n",
      "\n",
      "1. Perform an updated arxiv search with a time filter (e.g., \"2023-2024 AI breakthroughs\")?  \n",
      "2. Use a web search (via Tavily) to find the latest AI research news from 2024?  \n",
      "\n",
      "This will ensure we get the most current studies.\n"
     ]
    }
   ],
   "source": [
    "messages = graph2.invoke({\"messages\": \"Hi I am Shaun How are you doing and please tell me recent research paper on AI\"})\n",
    "for m in messages['messages']:\n",
    "    m.pretty_print()"
   ]
  },
  {
   "cell_type": "code",
   "execution_count": null,
   "id": "0fc47125",
   "metadata": {},
   "outputs": [],
   "source": []
  }
 ],
 "metadata": {
  "kernelspec": {
   "display_name": "Python 3",
   "language": "python",
   "name": "python3"
  },
  "language_info": {
   "codemirror_mode": {
    "name": "ipython",
    "version": 3
   },
   "file_extension": ".py",
   "mimetype": "text/x-python",
   "name": "python",
   "nbconvert_exporter": "python",
   "pygments_lexer": "ipython3",
   "version": "3.12.0"
  }
 },
 "nbformat": 4,
 "nbformat_minor": 5
}
