{
 "cells": [
  {
   "cell_type": "markdown",
   "id": "52498b9b",
   "metadata": {},
   "source": [
    "## Introduction to pydantic : Creating models"
   ]
  },
  {
   "cell_type": "markdown",
   "id": "1e25527b",
   "metadata": {},
   "source": []
  },
  {
   "cell_type": "code",
   "execution_count": null,
   "id": "afb142a2",
   "metadata": {},
   "outputs": [],
   "source": [
    "from pydantic import BaseModel # Base class for creating pydantic modules which performs data validation"
   ]
  },
  {
   "cell_type": "code",
   "execution_count": null,
   "id": "bcdb3f9d",
   "metadata": {},
   "outputs": [],
   "source": []
  },
  {
   "cell_type": "code",
   "execution_count": 10,
   "id": "6a8b03c0",
   "metadata": {},
   "outputs": [
    {
     "name": "stdout",
     "output_type": "stream",
     "text": [
      "name='shaun' age=24 city='gainesville'\n"
     ]
    }
   ],
   "source": [
    "class Person1(BaseModel):\n",
    "    name:str\n",
    "    age:int\n",
    "    city:str\n",
    "\n",
    "person1 = Person1(name = \"shaun\", age = 24, city = \"gainesville\")\n",
    "print(person1)"
   ]
  },
  {
   "cell_type": "code",
   "execution_count": null,
   "id": "966b05cf",
   "metadata": {},
   "outputs": [
    {
     "ename": "ValidationError",
     "evalue": "1 validation error for Person1\ncity\n  Input should be a valid string [type=string_type, input_value=12, input_type=int]\n    For further information visit https://errors.pydantic.dev/2.11/v/string_type",
     "output_type": "error",
     "traceback": [
      "\u001b[31m---------------------------------------------------------------------------\u001b[39m",
      "\u001b[31mValidationError\u001b[39m                           Traceback (most recent call last)",
      "\u001b[36mCell\u001b[39m\u001b[36m \u001b[39m\u001b[32mIn[13]\u001b[39m\u001b[32m, line 1\u001b[39m\n\u001b[32m----> \u001b[39m\u001b[32m1\u001b[39m person4 = \u001b[43mPerson1\u001b[49m\u001b[43m(\u001b[49m\u001b[43mname\u001b[49m\u001b[43m \u001b[49m\u001b[43m=\u001b[49m\u001b[43m \u001b[49m\u001b[33;43m\"\u001b[39;49m\u001b[33;43mshaun\u001b[39;49m\u001b[33;43m\"\u001b[39;49m\u001b[43m,\u001b[49m\u001b[43m \u001b[49m\u001b[43mage\u001b[49m\u001b[43m \u001b[49m\u001b[43m=\u001b[49m\u001b[43m \u001b[49m\u001b[32;43m24\u001b[39;49m\u001b[43m,\u001b[49m\u001b[43m \u001b[49m\u001b[43mcity\u001b[49m\u001b[43m \u001b[49m\u001b[43m=\u001b[49m\u001b[43m \u001b[49m\u001b[32;43m12\u001b[39;49m\u001b[43m)\u001b[49m\n\u001b[32m      2\u001b[39m \u001b[38;5;28mprint\u001b[39m(person4)\n",
      "\u001b[36mFile \u001b[39m\u001b[32mc:\\Users\\shaun\\OneDrive\\Desktop\\Langgraph\\env\\Lib\\site-packages\\pydantic\\main.py:253\u001b[39m, in \u001b[36mBaseModel.__init__\u001b[39m\u001b[34m(self, **data)\u001b[39m\n\u001b[32m    251\u001b[39m \u001b[38;5;66;03m# `__tracebackhide__` tells pytest and some other tools to omit this function from tracebacks\u001b[39;00m\n\u001b[32m    252\u001b[39m __tracebackhide__ = \u001b[38;5;28;01mTrue\u001b[39;00m\n\u001b[32m--> \u001b[39m\u001b[32m253\u001b[39m validated_self = \u001b[38;5;28;43mself\u001b[39;49m\u001b[43m.\u001b[49m\u001b[43m__pydantic_validator__\u001b[49m\u001b[43m.\u001b[49m\u001b[43mvalidate_python\u001b[49m\u001b[43m(\u001b[49m\u001b[43mdata\u001b[49m\u001b[43m,\u001b[49m\u001b[43m \u001b[49m\u001b[43mself_instance\u001b[49m\u001b[43m=\u001b[49m\u001b[38;5;28;43mself\u001b[39;49m\u001b[43m)\u001b[49m\n\u001b[32m    254\u001b[39m \u001b[38;5;28;01mif\u001b[39;00m \u001b[38;5;28mself\u001b[39m \u001b[38;5;129;01mis\u001b[39;00m \u001b[38;5;129;01mnot\u001b[39;00m validated_self:\n\u001b[32m    255\u001b[39m     warnings.warn(\n\u001b[32m    256\u001b[39m         \u001b[33m'\u001b[39m\u001b[33mA custom validator is returning a value other than `self`.\u001b[39m\u001b[38;5;130;01m\\n\u001b[39;00m\u001b[33m'\u001b[39m\n\u001b[32m    257\u001b[39m         \u001b[33m\"\u001b[39m\u001b[33mReturning anything other than `self` from a top level model validator isn\u001b[39m\u001b[33m'\u001b[39m\u001b[33mt supported when validating via `__init__`.\u001b[39m\u001b[38;5;130;01m\\n\u001b[39;00m\u001b[33m\"\u001b[39m\n\u001b[32m    258\u001b[39m         \u001b[33m'\u001b[39m\u001b[33mSee the `model_validator` docs (https://docs.pydantic.dev/latest/concepts/validators/#model-validators) for more details.\u001b[39m\u001b[33m'\u001b[39m,\n\u001b[32m    259\u001b[39m         stacklevel=\u001b[32m2\u001b[39m,\n\u001b[32m    260\u001b[39m     )\n",
      "\u001b[31mValidationError\u001b[39m: 1 validation error for Person1\ncity\n  Input should be a valid string [type=string_type, input_value=12, input_type=int]\n    For further information visit https://errors.pydantic.dev/2.11/v/string_type"
     ]
    }
   ],
   "source": [
    "person4 = Person1(name = \"shaun\", age = 24, city = 12)\n",
    "print(person4)\n",
    "\"\"\"\n",
    "Data validation happens here\n",
    "\"\"\""
   ]
  },
  {
   "cell_type": "code",
   "execution_count": null,
   "id": "db419ac9",
   "metadata": {},
   "outputs": [
    {
     "name": "stdout",
     "output_type": "stream",
     "text": [
      "Person2(name='shaun', age=24, city='gainesville')\n"
     ]
    }
   ],
   "source": [
    "from dataclasses import dataclass\n",
    "\n",
    "@dataclass\n",
    "class Person2():\n",
    "    name:str\n",
    "    age:int\n",
    "    city:str\n",
    "\n",
    "person2 = Person2(name = \"shaun\", age = 24, city = \"gainesville\")\n",
    "print(person2)"
   ]
  },
  {
   "cell_type": "code",
   "execution_count": null,
   "id": "8cf5737a",
   "metadata": {},
   "outputs": [
    {
     "name": "stdout",
     "output_type": "stream",
     "text": [
      "Person2(name='shaun', age=24, city=12)\n"
     ]
    }
   ],
   "source": [
    "person3 = Person2(name = \"shaun\", age = 24, city = 12)\n",
    "print(person3)\n",
    "\"\"\"\n",
    "Data validation does not happen here\n",
    "\"\"\""
   ]
  },
  {
   "cell_type": "markdown",
   "id": "0124b66d",
   "metadata": {},
   "source": [
    "## Model with optional fields"
   ]
  },
  {
   "cell_type": "code",
   "execution_count": null,
   "id": "76ddb0dd",
   "metadata": {},
   "outputs": [
    {
     "name": "stdout",
     "output_type": "stream",
     "text": [
      "id=1 name='John' department='HR' salary=None is_active=True\n",
      "id=2 name='Mark' department='IT' salary=6000.0 is_active=True\n"
     ]
    }
   ],
   "source": [
    "from typing import Optional\n",
    "\n",
    "class Employee(BaseModel):\n",
    "    id : int\n",
    "    name : str\n",
    "    department : str\n",
    "    salary : Optional[float] = None\n",
    "    is_active : Optional[bool] = True\n",
    "\n",
    "emp1 = Employee(id = 1, name = \"John\", department = \"HR\")\n",
    "print(emp1)\n",
    "\n",
    "emp2 = Employee(id = 2, name = \"Mark\", department = \"IT\", salary=6000) #even when i give integer value for salary automatic type casting happens\n",
    "print(emp2) "
   ]
  },
  {
   "cell_type": "code",
   "execution_count": 19,
   "id": "a27d6886",
   "metadata": {},
   "outputs": [
    {
     "name": "stdout",
     "output_type": "stream",
     "text": [
      "room_no='A123' student=['John', 'Alice'] capacity=30\n"
     ]
    }
   ],
   "source": [
    "# our model can also have list values\n",
    "\n",
    "from typing import List\n",
    "\n",
    "class Classroom(BaseModel):\n",
    "    room_no : str\n",
    "    student : List[str]\n",
    "    capacity : int\n",
    "\n",
    "# creating a classroom\n",
    "\n",
    "classroom = Classroom(\n",
    "    room_no = \"A123\",\n",
    "    student = [\"John\", \"Alice\"],\n",
    "    capacity = 30\n",
    ")\n",
    "\n",
    "print(classroom)"
   ]
  },
  {
   "cell_type": "code",
   "execution_count": 20,
   "id": "f7f8534e",
   "metadata": {},
   "outputs": [
    {
     "name": "stdout",
     "output_type": "stream",
     "text": [
      "room_no='A123' student=['John', 'Alice'] capacity=30\n"
     ]
    }
   ],
   "source": [
    "# type casting will happen even if i give a tuple instead of a list\n",
    "classroom2 = Classroom(\n",
    "    room_no = \"A123\",\n",
    "    student = (\"John\", \"Alice\"),\n",
    "    capacity = 30\n",
    ")\n",
    "\n",
    "print(classroom2)"
   ]
  },
  {
   "cell_type": "code",
   "execution_count": null,
   "id": "60688530",
   "metadata": {},
   "outputs": [
    {
     "name": "stdout",
     "output_type": "stream",
     "text": [
      "2 validation errors for Classroom\n",
      "room_no\n",
      "  Input should be a valid string [type=string_type, input_value=123, input_type=int]\n",
      "    For further information visit https://errors.pydantic.dev/2.11/v/string_type\n",
      "student.1\n",
      "  Input should be a valid string [type=string_type, input_value=123, input_type=int]\n",
      "    For further information visit https://errors.pydantic.dev/2.11/v/string_type\n"
     ]
    }
   ],
   "source": [
    "# This error is being caught using pydantic module\n",
    "try:\n",
    "    invalid_val = Classroom(room_no = 123, student = (\"John\", 123),capacity = 30)\n",
    "except ValueError as e:\n",
    "    print(e)"
   ]
  },
  {
   "cell_type": "markdown",
   "id": "34c32cba",
   "metadata": {},
   "source": [
    "## Model with nested models"
   ]
  },
  {
   "cell_type": "code",
   "execution_count": null,
   "id": "e6473f7a",
   "metadata": {},
   "outputs": [
    {
     "name": "stdout",
     "output_type": "stream",
     "text": [
      "customer_id=1 name='Emma' address=Address(street='123 main st', city='kottaym', zip_code=32605)\n"
     ]
    }
   ],
   "source": [
    "class Address(BaseModel):\n",
    "    street : str\n",
    "    city : str\n",
    "    zip_code : int\n",
    "\n",
    "\n",
    "class Customer(BaseModel):\n",
    "    customer_id : int\n",
    "    name : str\n",
    "    address : Address # Nested Model\n",
    "\n",
    "#Creating customer with nested address\n",
    "\n",
    "customer = Customer(\n",
    "    customer_id = 1,\n",
    "    name = \"Emma\",\n",
    "    address = {\"street\": \"123 main st\", \"city\" : \"kottaym\", \"zip_code\":\"32605\"} #typecasting happens for zip_code\n",
    ")\n",
    "\n",
    "print(customer)"
   ]
  },
  {
   "cell_type": "markdown",
   "id": "deb17420",
   "metadata": {},
   "source": [
    "## Pydantic field: Customisation and Cosntraints\n",
    "\n",
    "The field funcction enhances model fields beyond basic type hints by allowing you to specify validation rules , aliases, and more."
   ]
  },
  {
   "cell_type": "code",
   "execution_count": 29,
   "id": "94b71260",
   "metadata": {},
   "outputs": [
    {
     "name": "stdout",
     "output_type": "stream",
     "text": [
      "name='Book' price=10.0 quantity=20\n"
     ]
    }
   ],
   "source": [
    "from pydantic import Field\n",
    "\n",
    "class Item(BaseModel):\n",
    "    name : str = Field(min_length = 2, max_length = 50)\n",
    "    price : float = Field(gt = 0, le = 1000) #greater than 0 + less than or equal to 1000\n",
    "    quantity:int = Field(ge = 0) #greater than or equal to 0\n",
    "\n",
    "item = Item(name = \"Book\", price = 10, quantity=20)\n",
    "print(item)"
   ]
  },
  {
   "cell_type": "code",
   "execution_count": 34,
   "id": "fb819a04",
   "metadata": {},
   "outputs": [
    {
     "name": "stdout",
     "output_type": "stream",
     "text": [
      "username='Alice' age=18 email='user@example.com'\n",
      "username='bob' age=25 email='bob@domain.com'\n"
     ]
    }
   ],
   "source": [
    "class User(BaseModel):\n",
    "    username : str = Field(...,description=\"Unique username for the user\")\n",
    "    age : int = Field(default = 18, description= \"User age, defaults to 18\")\n",
    "    email : str = Field(default_factory= lambda:\"user@example.com\", description=\"Default email address\")\n",
    "\n",
    "user1 = User(username = \"Alice\")\n",
    "print(user1)\n",
    "\n",
    "user2 = User(username = \"bob\", age = 25, email = \"bob@domain.com\")\n",
    "print(user2)"
   ]
  },
  {
   "cell_type": "code",
   "execution_count": 38,
   "id": "b33e8cb5",
   "metadata": {},
   "outputs": [
    {
     "name": "stdout",
     "output_type": "stream",
     "text": [
      "{'properties': {'username': {'description': 'Unique username for the user', 'title': 'Username', 'type': 'string'}, 'age': {'default': 18, 'description': 'User age, defaults to 18', 'title': 'Age', 'type': 'integer'}, 'email': {'description': 'Default email address', 'title': 'Email', 'type': 'string'}}, 'required': ['username'], 'title': 'User', 'type': 'object'}\n"
     ]
    }
   ],
   "source": [
    "print(User.model_json_schema())"
   ]
  },
  {
   "cell_type": "code",
   "execution_count": null,
   "id": "859bafd9",
   "metadata": {},
   "outputs": [],
   "source": []
  }
 ],
 "metadata": {
  "kernelspec": {
   "display_name": "Python 3",
   "language": "python",
   "name": "python3"
  },
  "language_info": {
   "codemirror_mode": {
    "name": "ipython",
    "version": 3
   },
   "file_extension": ".py",
   "mimetype": "text/x-python",
   "name": "python",
   "nbconvert_exporter": "python",
   "pygments_lexer": "ipython3",
   "version": "3.12.0"
  }
 },
 "nbformat": 4,
 "nbformat_minor": 5
}
